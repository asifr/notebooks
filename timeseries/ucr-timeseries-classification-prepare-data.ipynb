{
 "cells": [
  {
   "cell_type": "markdown",
   "metadata": {},
   "source": [
    "# UCR Time Series Classification Data\n",
    "\n",
    "Download the [UCR time series classification](https://www.cs.ucr.edu/%7Eeamonn/time_series_data_2018/) datasets"
   ]
  },
  {
   "cell_type": "code",
   "execution_count": 36,
   "metadata": {},
   "outputs": [],
   "source": [
    "import os\n",
    "import sys\n",
    "import urllib\n",
    "import zipfile\n",
    "import tarfile\n",
    "import numpy as np\n",
    "import pandas as pd\n",
    "import importlib\n",
    "from pathlib import Path\n",
    "\n",
    "import matplotlib.pyplot as plt\n",
    "import seaborn as sns\n",
    "sns.reset_defaults()\n",
    "%matplotlib inline"
   ]
  },
  {
   "cell_type": "code",
   "execution_count": 24,
   "metadata": {},
   "outputs": [],
   "source": [
    "# Add the parent notebook folder to the modules path\n",
    "parent = '../'\n",
    "if parent not in sys.path: sys.path.append(parent)"
   ]
  },
  {
   "cell_type": "code",
   "execution_count": 25,
   "metadata": {},
   "outputs": [
    {
     "data": {
      "text/plain": [
       "<module 'utils' from '../utils.py'>"
      ]
     },
     "execution_count": 25,
     "metadata": {},
     "output_type": "execute_result"
    }
   ],
   "source": [
    "import utils\n",
    "importlib.reload(utils)"
   ]
  },
  {
   "cell_type": "code",
   "execution_count": 42,
   "metadata": {},
   "outputs": [],
   "source": [
    "# constants\n",
    "DATA = Path('./data/ucr')\n",
    "DATA.mkdir(parents=True, exist_ok=True)\n",
    "\n",
    "UCR = DATA / \"UCRArchive_2018\""
   ]
  },
  {
   "cell_type": "code",
   "execution_count": 39,
   "metadata": {},
   "outputs": [],
   "source": [
    "def download_url(url, root, filename=None):\n",
    "    if not filename:\n",
    "        filename = os.path.basename(url)\n",
    "    fpath = os.path.join(root, filename)\n",
    "    os.makedirs(root, exist_ok=True)\n",
    "    try:\n",
    "        urllib.request.urlretrieve(url, fpath)\n",
    "    except (urllib.error.URLError, IOError) as e:\n",
    "        if url[:5] == 'https':\n",
    "            url = url.replace('https:', 'http:')\n",
    "            urllib.request.urlretrieve(url, fpath)\n",
    "\n",
    "def unzip(file, root, password=None):\n",
    "    if file.endswith(\"tar.gz\"):\n",
    "        tar = tarfile.open(file, \"r:gz\")\n",
    "        tar.extractall(path=root)\n",
    "        tar.close()\n",
    "    if file.endswith(\"tar\"):\n",
    "        tar = tarfile.open(file, \"r:\")\n",
    "        tar.extractall(path=root)\n",
    "        tar.close()\n",
    "    if file.endswith(\"zip\"):\n",
    "        with zipfile.ZipFile(file, 'r') as z:\n",
    "            if password is not None:\n",
    "                z.setpassword(password)\n",
    "            z.extractall(root)"
   ]
  },
  {
   "cell_type": "code",
   "execution_count": 38,
   "metadata": {},
   "outputs": [],
   "source": [
    "url = 'https://www.cs.ucr.edu/%7Eeamonn/time_series_data_2018/UCRArchive_2018.zip'\n",
    "download_url(url, DATA)"
   ]
  },
  {
   "cell_type": "code",
   "execution_count": 31,
   "metadata": {},
   "outputs": [
    {
     "name": "stdout",
     "output_type": "stream",
     "text": [
      "UCRArchive_2018.zip\r\n"
     ]
    }
   ],
   "source": [
    "!ls {DATA}"
   ]
  },
  {
   "cell_type": "code",
   "execution_count": 41,
   "metadata": {},
   "outputs": [],
   "source": [
    "# unnecessarily requires a password to unzip\n",
    "password = b'someone'\n",
    "unzip(str(DATA / os.path.basename(url)), DATA, password)"
   ]
  },
  {
   "cell_type": "code",
   "execution_count": 43,
   "metadata": {},
   "outputs": [],
   "source": [
    "UCR_DATASETS = [str(d.name) for d in UCR.glob(\"*\") if d.is_dir()]"
   ]
  },
  {
   "cell_type": "code",
   "execution_count": 44,
   "metadata": {
    "scrolled": false
   },
   "outputs": [
    {
     "data": {
      "text/plain": [
       "['Haptics',\n",
       " 'SyntheticControl',\n",
       " 'Worms',\n",
       " 'Computers',\n",
       " 'HouseTwenty',\n",
       " 'GestureMidAirD3',\n",
       " 'Chinatown',\n",
       " 'UWaveGestureLibraryAll',\n",
       " 'Strawberry',\n",
       " 'Car',\n",
       " 'GunPointAgeSpan',\n",
       " 'GestureMidAirD2',\n",
       " 'BeetleFly',\n",
       " 'Wafer',\n",
       " 'CBF',\n",
       " 'Adiac',\n",
       " 'ItalyPowerDemand',\n",
       " 'Yoga',\n",
       " 'AllGestureWiimoteY',\n",
       " 'Trace',\n",
       " 'PigAirwayPressure',\n",
       " 'ShapesAll',\n",
       " 'Beef',\n",
       " 'GesturePebbleZ2',\n",
       " 'Mallat',\n",
       " 'GunPointOldVersusYoung',\n",
       " 'MiddlePhalanxTW',\n",
       " 'AllGestureWiimoteX',\n",
       " 'Meat',\n",
       " 'Herring',\n",
       " 'MiddlePhalanxOutlineCorrect',\n",
       " 'InsectEPGRegularTrain',\n",
       " 'FordA',\n",
       " 'SwedishLeaf',\n",
       " 'InlineSkate',\n",
       " 'DodgerLoopDay',\n",
       " 'UMD',\n",
       " 'CricketY',\n",
       " 'Missing_value_and_variable_length_datasets_adjusted',\n",
       " 'WormsTwoClass',\n",
       " 'SmoothSubspace',\n",
       " 'OSULeaf',\n",
       " 'Ham',\n",
       " 'CricketX',\n",
       " 'SonyAIBORobotSurface1',\n",
       " 'ToeSegmentation1',\n",
       " 'ScreenType',\n",
       " 'PigArtPressure',\n",
       " 'SmallKitchenAppliances',\n",
       " 'Crop',\n",
       " 'MoteStrain',\n",
       " 'MelbournePedestrian',\n",
       " 'ECGFiveDays',\n",
       " 'Wine',\n",
       " 'SemgHandMovementCh2',\n",
       " 'FreezerSmallTrain',\n",
       " 'UWaveGestureLibraryZ',\n",
       " 'NonInvasiveFetalECGThorax1',\n",
       " 'TwoLeadECG',\n",
       " 'Lightning7',\n",
       " 'Phoneme',\n",
       " 'SemgHandSubjectCh2',\n",
       " 'DodgerLoopWeekend',\n",
       " 'MiddlePhalanxOutlineAgeGroup',\n",
       " 'GestureMidAirD1',\n",
       " 'DistalPhalanxOutlineCorrect',\n",
       " 'DistalPhalanxTW',\n",
       " 'FacesUCR',\n",
       " 'ECG5000',\n",
       " 'ShakeGestureWiimoteZ',\n",
       " 'GesturePebbleZ1',\n",
       " 'HandOutlines',\n",
       " 'GunPointMaleVersusFemale',\n",
       " 'Coffee',\n",
       " 'Rock',\n",
       " 'MixedShapesSmallTrain',\n",
       " 'AllGestureWiimoteZ',\n",
       " 'FordB',\n",
       " 'FiftyWords',\n",
       " 'InsectWingbeatSound',\n",
       " 'MedicalImages',\n",
       " 'Symbols',\n",
       " 'ArrowHead',\n",
       " 'ProximalPhalanxOutlineAgeGroup',\n",
       " 'EOGHorizontalSignal',\n",
       " 'TwoPatterns',\n",
       " 'ChlorineConcentration',\n",
       " 'Plane',\n",
       " 'ACSF1',\n",
       " 'PhalangesOutlinesCorrect',\n",
       " 'ShapeletSim',\n",
       " 'DistalPhalanxOutlineAgeGroup',\n",
       " 'InsectEPGSmallTrain',\n",
       " 'PickupGestureWiimoteZ',\n",
       " 'EOGVerticalSignal',\n",
       " 'CricketZ',\n",
       " 'FaceFour',\n",
       " 'RefrigerationDevices',\n",
       " 'PLAID',\n",
       " 'MixedShapesRegularTrain',\n",
       " 'GunPoint',\n",
       " 'DodgerLoopGame',\n",
       " 'ECG200',\n",
       " 'ToeSegmentation2',\n",
       " 'WordSynonyms',\n",
       " 'Fungi',\n",
       " 'BirdChicken',\n",
       " 'SemgHandGenderCh2',\n",
       " 'OliveOil',\n",
       " 'BME',\n",
       " 'LargeKitchenAppliances',\n",
       " 'SonyAIBORobotSurface2',\n",
       " 'Lightning2',\n",
       " 'EthanolLevel',\n",
       " 'UWaveGestureLibraryX',\n",
       " 'FreezerRegularTrain',\n",
       " 'Fish',\n",
       " 'ProximalPhalanxOutlineCorrect',\n",
       " 'NonInvasiveFetalECGThorax2',\n",
       " 'UWaveGestureLibraryY',\n",
       " 'FaceAll',\n",
       " 'StarLightCurves',\n",
       " 'ElectricDevices',\n",
       " 'Earthquakes',\n",
       " 'PowerCons',\n",
       " 'DiatomSizeReduction',\n",
       " 'CinCECGTorso',\n",
       " 'PigCVP',\n",
       " 'ProximalPhalanxTW']"
      ]
     },
     "execution_count": 44,
     "metadata": {},
     "output_type": "execute_result"
    }
   ],
   "source": [
    "UCR_DATASETS"
   ]
  },
  {
   "cell_type": "code",
   "execution_count": 47,
   "metadata": {},
   "outputs": [],
   "source": [
    "from collections import namedtuple\n",
    "DataSet = namedtuple('DataSet',['X_train','y_train','X_test','y_test'])\n",
    "def load_dataset(ucr_path, name):\n",
    "    folder = ucr_path / name\n",
    "    train = pd.read_csv(folder / f\"{name}_TRAIN.tsv\", header=None, sep=\"\\t\").values\n",
    "    test = pd.read_csv(folder / f\"{name}_TEST.tsv\", header=None, sep=\"\\t\").values\n",
    "    train, y_train, test, y_test = train[:, 1:], train[:, 0], test[:, 1:], test[:, 0]\n",
    "    return DataSet(train, y_train, test, y_test)"
   ]
  },
  {
   "cell_type": "code",
   "execution_count": 54,
   "metadata": {},
   "outputs": [],
   "source": [
    "# load a data\n",
    "data = load_dataset(UCR, 'ECGFiveDays')"
   ]
  },
  {
   "cell_type": "code",
   "execution_count": 60,
   "metadata": {},
   "outputs": [
    {
     "data": {
      "text/plain": [
       "((23, 136), (861, 136))"
      ]
     },
     "execution_count": 60,
     "metadata": {},
     "output_type": "execute_result"
    }
   ],
   "source": [
    "data.X_train.shape, data.X_test.shape"
   ]
  },
  {
   "cell_type": "code",
   "execution_count": 59,
   "metadata": {},
   "outputs": [
    {
     "data": {
      "image/png": "[encoded data removed]",
      "text/plain": [
       "<Figure size 432x288 with 1 Axes>"
      ]
     },
     "metadata": {
      "needs_background": "light"
     },
     "output_type": "display_data"
    }
   ],
   "source": [
    "plt.plot(data.X_train[0:5,:].T);"
   ]
  },
  {
   "cell_type": "code",
   "execution_count": null,
   "metadata": {},
   "outputs": [],
   "source": []
  }
 ],
 "metadata": {
  "kernelspec": {
   "display_name": "Python 3",
   "language": "python",
   "name": "python3"
  },
  "language_info": {
   "codemirror_mode": {
    "name": "ipython",
    "version": 3
   },
   "file_extension": ".py",
   "mimetype": "text/x-python",
   "name": "python",
   "nbconvert_exporter": "python",
   "pygments_lexer": "ipython3",
   "version": "3.7.4"
  }
 },
 "nbformat": 4,
 "nbformat_minor": 2
}
