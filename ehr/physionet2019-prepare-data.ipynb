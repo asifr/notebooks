{
 "cells": [
  {
   "cell_type": "markdown",
   "metadata": {},
   "source": [
    "# Physionet 2019 Sepsis prediction challenge\n",
    "\n",
    "The [Physionet 2019](https://physionet.org/content/challenge-2019/1.0.0/) challenge was to predict the onset of sepsis in ICU patients using vital signs and lab measurements.\n",
    "\n",
    "Outcome column is `SepsisLabel`: For sepsis patients, SepsisLabel is 1 if t>=tsepsis−6 and 0 if t<tsepsis−6. For non-sepsis patients, `SepsisLabel` is 0. So all samples starting 6h before sepsis onset are positive class.\n",
    "\n",
    "The time column is `ICULOS`: the hours since ICU admit. So every row is an hour of patient record.\n",
    "\n",
    "The raw data are in pipe-separated files:\n",
    "\n",
    "```\n",
    "HR|O2Sat|Temp|SBP\n",
    "NaN|NaN|NaN|NaN\n",
    "97|95|NaN|98\n",
    "89|99|NaN|122\n",
    "```"
   ]
  },
  {
   "cell_type": "code",
   "execution_count": 20,
   "metadata": {},
   "outputs": [],
   "source": [
    "import numpy as np\n",
    "import pandas as pd\n",
    "import urllib\n",
    "import tarfile\n",
    "import zipfile\n",
    "from pathlib import Path\n",
    "\n",
    "import matplotlib.pyplot as plt\n",
    "import seaborn as sns\n",
    "sns.reset_defaults()\n",
    "%matplotlib inline"
   ]
  },
  {
   "cell_type": "code",
   "execution_count": 45,
   "metadata": {},
   "outputs": [],
   "source": [
    "# constants\n",
    "ROOT = Path('./data/physionet2019')\n",
    "ROOT.mkdir(parents=True, exist_ok=True)\n",
    "\n",
    "WIDE = ROOT / \"physionet2019_timeseries_wide.parquet\""
   ]
  },
  {
   "cell_type": "markdown",
   "metadata": {},
   "source": [
    "Download data"
   ]
  },
  {
   "cell_type": "code",
   "execution_count": 19,
   "metadata": {},
   "outputs": [],
   "source": [
    "sources = [\n",
    "    \"https://archive.physionet.org/users/shared/challenge-2019/training_setA.zip\",\n",
    "    \"https://archive.physionet.org/users/shared/challenge-2019/training_setB.zip\"\n",
    "]\n",
    "\n",
    "def download_url(url, root, filename=None):\n",
    "    if not filename:\n",
    "        filename = os.path.basename(url)\n",
    "    fpath = os.path.join(root, filename)\n",
    "    os.makedirs(root, exist_ok=True)\n",
    "    try:\n",
    "        urllib.request.urlretrieve(url, fpath)\n",
    "    except (urllib.error.URLError, IOError) as e:\n",
    "        if url[:5] == 'https':\n",
    "            url = url.replace('https:', 'http:')\n",
    "            urllib.request.urlretrieve(url, fpath)\n",
    "\n",
    "\n",
    "def unzip(file, root):\n",
    "    if file.endswith(\"tar.gz\"):\n",
    "        tar = tarfile.open(file, \"r:gz\")\n",
    "        tar.extractall(path=root)\n",
    "        tar.close()\n",
    "    if file.endswith(\"tar\"):\n",
    "        tar = tarfile.open(file, \"r:\")\n",
    "        tar.extractall(path=root)\n",
    "        tar.close()\n",
    "    if file.endswith(\"zip\"):\n",
    "        with zipfile.ZipFile(file, 'r') as z:\n",
    "            z.extractall(root)"
   ]
  },
  {
   "cell_type": "code",
   "execution_count": 24,
   "metadata": {},
   "outputs": [],
   "source": [
    "for url in sources:\n",
    "    download_url(url, ROOT)\n",
    "    unzip(str(ROOT / os.path.basename(url)), ROOT)"
   ]
  },
  {
   "cell_type": "code",
   "execution_count": 26,
   "metadata": {},
   "outputs": [],
   "source": [
    "# setA folder is named training so rename it to training_setA\n",
    "os.rename(ROOT / 'training', ROOT / 'training_setA')"
   ]
  },
  {
   "cell_type": "code",
   "execution_count": 27,
   "metadata": {},
   "outputs": [
    {
     "name": "stdout",
     "output_type": "stream",
     "text": [
      "\u001b[1m\u001b[36mtraining_setA\u001b[m\u001b[m     training_setA.zip \u001b[1m\u001b[36mtraining_setB\u001b[m\u001b[m     training_setB.zip\r\n"
     ]
    }
   ],
   "source": [
    "!ls {ROOT}"
   ]
  },
  {
   "cell_type": "markdown",
   "metadata": {},
   "source": [
    "Merge all patient records into a single dataframe"
   ]
  },
  {
   "cell_type": "code",
   "execution_count": 42,
   "metadata": {},
   "outputs": [],
   "source": [
    "datasets = ['training_setA','training_setB']\n",
    "id_var = 'RecordID'\n",
    "\n",
    "def load_dataset(root, name):\n",
    "    df = []\n",
    "    for file in root.glob('*.psv'):\n",
    "        d = pd.read_csv(file, sep=\"|\")\n",
    "        d.loc[:,'RecordID'] = file.name.split('.')[0]\n",
    "        df.append(d)\n",
    "    df = pd.concat(df)\n",
    "    df.loc[:,'Dataset'] = name\n",
    "    return df"
   ]
  },
  {
   "cell_type": "code",
   "execution_count": 43,
   "metadata": {},
   "outputs": [],
   "source": [
    "df = pd.concat([load_dataset(ROOT / name, name) for name in datasets])"
   ]
  },
  {
   "cell_type": "code",
   "execution_count": 46,
   "metadata": {},
   "outputs": [
    {
     "data": {
      "text/plain": [
       "(1552210, 43)"
      ]
     },
     "execution_count": 46,
     "metadata": {},
     "output_type": "execute_result"
    }
   ],
   "source": [
    "df.shape"
   ]
  },
  {
   "cell_type": "code",
   "execution_count": 47,
   "metadata": {},
   "outputs": [
    {
     "data": {
      "text/html": [
       "<div>\n",
       "<style scoped>\n",
       "    .dataframe tbody tr th:only-of-type {\n",
       "        vertical-align: middle;\n",
       "    }\n",
       "\n",
       "    .dataframe tbody tr th {\n",
       "        vertical-align: top;\n",
       "    }\n",
       "\n",
       "    .dataframe thead th {\n",
       "        text-align: right;\n",
       "    }\n",
       "</style>\n",
       "<table border=\"1\" class=\"dataframe\">\n",
       "  <thead>\n",
       "    <tr style=\"text-align: right;\">\n",
       "      <th></th>\n",
       "      <th>HR</th>\n",
       "      <th>O2Sat</th>\n",
       "      <th>Temp</th>\n",
       "      <th>SBP</th>\n",
       "      <th>MAP</th>\n",
       "      <th>DBP</th>\n",
       "      <th>Resp</th>\n",
       "      <th>EtCO2</th>\n",
       "      <th>BaseExcess</th>\n",
       "      <th>HCO3</th>\n",
       "      <th>...</th>\n",
       "      <th>Platelets</th>\n",
       "      <th>Age</th>\n",
       "      <th>Gender</th>\n",
       "      <th>Unit1</th>\n",
       "      <th>Unit2</th>\n",
       "      <th>HospAdmTime</th>\n",
       "      <th>ICULOS</th>\n",
       "      <th>SepsisLabel</th>\n",
       "      <th>RecordID</th>\n",
       "      <th>Dataset</th>\n",
       "    </tr>\n",
       "  </thead>\n",
       "  <tbody>\n",
       "    <tr>\n",
       "      <th>0</th>\n",
       "      <td>80.0</td>\n",
       "      <td>100.0</td>\n",
       "      <td>36.50</td>\n",
       "      <td>121.00</td>\n",
       "      <td>58.0</td>\n",
       "      <td>41.00</td>\n",
       "      <td>13.5</td>\n",
       "      <td>NaN</td>\n",
       "      <td>1.0</td>\n",
       "      <td>25.0</td>\n",
       "      <td>...</td>\n",
       "      <td>160.0</td>\n",
       "      <td>77.27</td>\n",
       "      <td>1</td>\n",
       "      <td>0.0</td>\n",
       "      <td>1.0</td>\n",
       "      <td>-69.14</td>\n",
       "      <td>3</td>\n",
       "      <td>0</td>\n",
       "      <td>p014977</td>\n",
       "      <td>training_setA</td>\n",
       "    </tr>\n",
       "    <tr>\n",
       "      <th>1</th>\n",
       "      <td>76.0</td>\n",
       "      <td>100.0</td>\n",
       "      <td>36.25</td>\n",
       "      <td>113.25</td>\n",
       "      <td>61.0</td>\n",
       "      <td>41.50</td>\n",
       "      <td>12.0</td>\n",
       "      <td>NaN</td>\n",
       "      <td>1.0</td>\n",
       "      <td>25.0</td>\n",
       "      <td>...</td>\n",
       "      <td>NaN</td>\n",
       "      <td>77.27</td>\n",
       "      <td>1</td>\n",
       "      <td>0.0</td>\n",
       "      <td>1.0</td>\n",
       "      <td>-69.14</td>\n",
       "      <td>4</td>\n",
       "      <td>0</td>\n",
       "      <td>p014977</td>\n",
       "      <td>training_setA</td>\n",
       "    </tr>\n",
       "    <tr>\n",
       "      <th>2</th>\n",
       "      <td>80.0</td>\n",
       "      <td>100.0</td>\n",
       "      <td>36.25</td>\n",
       "      <td>132.75</td>\n",
       "      <td>71.5</td>\n",
       "      <td>46.25</td>\n",
       "      <td>12.0</td>\n",
       "      <td>NaN</td>\n",
       "      <td>NaN</td>\n",
       "      <td>NaN</td>\n",
       "      <td>...</td>\n",
       "      <td>NaN</td>\n",
       "      <td>77.27</td>\n",
       "      <td>1</td>\n",
       "      <td>0.0</td>\n",
       "      <td>1.0</td>\n",
       "      <td>-69.14</td>\n",
       "      <td>5</td>\n",
       "      <td>0</td>\n",
       "      <td>p014977</td>\n",
       "      <td>training_setA</td>\n",
       "    </tr>\n",
       "    <tr>\n",
       "      <th>3</th>\n",
       "      <td>78.0</td>\n",
       "      <td>100.0</td>\n",
       "      <td>36.10</td>\n",
       "      <td>103.50</td>\n",
       "      <td>58.0</td>\n",
       "      <td>43.00</td>\n",
       "      <td>12.0</td>\n",
       "      <td>NaN</td>\n",
       "      <td>-3.0</td>\n",
       "      <td>NaN</td>\n",
       "      <td>...</td>\n",
       "      <td>NaN</td>\n",
       "      <td>77.27</td>\n",
       "      <td>1</td>\n",
       "      <td>0.0</td>\n",
       "      <td>1.0</td>\n",
       "      <td>-69.14</td>\n",
       "      <td>6</td>\n",
       "      <td>0</td>\n",
       "      <td>p014977</td>\n",
       "      <td>training_setA</td>\n",
       "    </tr>\n",
       "    <tr>\n",
       "      <th>4</th>\n",
       "      <td>74.0</td>\n",
       "      <td>100.0</td>\n",
       "      <td>36.00</td>\n",
       "      <td>128.75</td>\n",
       "      <td>69.5</td>\n",
       "      <td>44.50</td>\n",
       "      <td>12.5</td>\n",
       "      <td>NaN</td>\n",
       "      <td>-3.0</td>\n",
       "      <td>NaN</td>\n",
       "      <td>...</td>\n",
       "      <td>NaN</td>\n",
       "      <td>77.27</td>\n",
       "      <td>1</td>\n",
       "      <td>0.0</td>\n",
       "      <td>1.0</td>\n",
       "      <td>-69.14</td>\n",
       "      <td>7</td>\n",
       "      <td>0</td>\n",
       "      <td>p014977</td>\n",
       "      <td>training_setA</td>\n",
       "    </tr>\n",
       "  </tbody>\n",
       "</table>\n",
       "<p>5 rows × 43 columns</p>\n",
       "</div>"
      ],
      "text/plain": [
       "     HR  O2Sat   Temp     SBP   MAP    DBP  Resp  EtCO2  BaseExcess  HCO3  \\\n",
       "0  80.0  100.0  36.50  121.00  58.0  41.00  13.5    NaN         1.0  25.0   \n",
       "1  76.0  100.0  36.25  113.25  61.0  41.50  12.0    NaN         1.0  25.0   \n",
       "2  80.0  100.0  36.25  132.75  71.5  46.25  12.0    NaN         NaN   NaN   \n",
       "3  78.0  100.0  36.10  103.50  58.0  43.00  12.0    NaN        -3.0   NaN   \n",
       "4  74.0  100.0  36.00  128.75  69.5  44.50  12.5    NaN        -3.0   NaN   \n",
       "\n",
       "   ...  Platelets    Age  Gender  Unit1  Unit2  HospAdmTime  ICULOS  \\\n",
       "0  ...      160.0  77.27       1    0.0    1.0       -69.14       3   \n",
       "1  ...        NaN  77.27       1    0.0    1.0       -69.14       4   \n",
       "2  ...        NaN  77.27       1    0.0    1.0       -69.14       5   \n",
       "3  ...        NaN  77.27       1    0.0    1.0       -69.14       6   \n",
       "4  ...        NaN  77.27       1    0.0    1.0       -69.14       7   \n",
       "\n",
       "   SepsisLabel  RecordID        Dataset  \n",
       "0            0   p014977  training_setA  \n",
       "1            0   p014977  training_setA  \n",
       "2            0   p014977  training_setA  \n",
       "3            0   p014977  training_setA  \n",
       "4            0   p014977  training_setA  \n",
       "\n",
       "[5 rows x 43 columns]"
      ]
     },
     "execution_count": 47,
     "metadata": {},
     "output_type": "execute_result"
    }
   ],
   "source": [
    "df.head()"
   ]
  },
  {
   "cell_type": "markdown",
   "metadata": {},
   "source": [
    "Save as a parquet file partitioned by Dataset."
   ]
  },
  {
   "cell_type": "code",
   "execution_count": 48,
   "metadata": {},
   "outputs": [],
   "source": [
    "df.to_parquet(WIDE, index=False, engine=\"pyarrow\", partition_cols=[\"Dataset\"])"
   ]
  },
  {
   "cell_type": "markdown",
   "metadata": {},
   "source": [
    "Cleanup"
   ]
  },
  {
   "cell_type": "code",
   "execution_count": 54,
   "metadata": {},
   "outputs": [
    {
     "name": "stdout",
     "output_type": "stream",
     "text": [
      "data/physionet2019/.DS_Store\n",
      "data/physionet2019/training_setA\n",
      "data/physionet2019/training_setB.zip\n",
      "data/physionet2019/training_setB\n",
      "data/physionet2019/training_setA.zip\n"
     ]
    }
   ],
   "source": [
    "import shutil\n",
    "def delete(file) -> None:\n",
    "    if os.path.isdir(file):\n",
    "        shutil.rmtree(file)\n",
    "    else:\n",
    "        if os.path.exists(file):\n",
    "            os.remove(file)\n",
    "            \n",
    "keep = [\n",
    "    WIDE,\n",
    "]\n",
    "for f in ROOT.glob(\"*\"):\n",
    "    if f not in keep:\n",
    "        print(f)\n",
    "        delete(f)"
   ]
  },
  {
   "cell_type": "code",
   "execution_count": null,
   "metadata": {},
   "outputs": [],
   "source": []
  }
 ],
 "metadata": {
  "kernelspec": {
   "display_name": "Python 3",
   "language": "python",
   "name": "python3"
  },
  "language_info": {
   "codemirror_mode": {
    "name": "ipython",
    "version": 3
   },
   "file_extension": ".py",
   "mimetype": "text/x-python",
   "name": "python",
   "nbconvert_exporter": "python",
   "pygments_lexer": "ipython3",
   "version": "3.7.4"
  }
 },
 "nbformat": 4,
 "nbformat_minor": 2
}
