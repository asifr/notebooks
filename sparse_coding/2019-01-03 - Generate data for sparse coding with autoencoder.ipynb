{
 "cells": [
  {
   "cell_type": "markdown",
   "metadata": {},
   "source": [
    "# Generate data for sparse coding with autoencoder\n",
    "\n",
    "We select a few continuous measures, like heart rate, sBP, dBP, SpO2, and RR\n",
    "\n",
    "Created: 2019-01-03"
   ]
  },
  {
   "cell_type": "markdown",
   "metadata": {},
   "source": [
    "# Methods"
   ]
  },
  {
   "cell_type": "code",
   "execution_count": 1,
   "metadata": {},
   "outputs": [
    {
     "name": "stderr",
     "output_type": "stream",
     "text": [
      "/local/home/Asif/anaconda3/lib/python3.7/site-packages/matplotlib/__init__.py:855: MatplotlibDeprecationWarning: \n",
      "examples.directory is deprecated; in the future, examples will be found relative to the 'datapath' directory.\n",
      "  \"found relative to the 'datapath' directory.\".format(key))\n",
      "/local/home/Asif/anaconda3/lib/python3.7/site-packages/matplotlib/__init__.py:846: MatplotlibDeprecationWarning: \n",
      "The text.latex.unicode rcparam was deprecated in Matplotlib 2.2 and will be removed in 3.1.\n",
      "  \"2.2\", name=key, obj_type=\"rcparam\", addendum=addendum)\n"
     ]
    }
   ],
   "source": [
    "%matplotlib inline\n",
    "import os\n",
    "import sys\n",
    "import pandas as pd\n",
    "import numpy as np\n",
    "\n",
    "import matplotlib.pyplot as plt\n",
    "import seaborn as sns\n",
    "sns.reset_orig()"
   ]
  },
  {
   "cell_type": "code",
   "execution_count": 2,
   "metadata": {},
   "outputs": [
    {
     "name": "stderr",
     "output_type": "stream",
     "text": [
      "/local/home/Asif/anaconda3/lib/python3.7/site-packages/matplotlib/__init__.py:855: MatplotlibDeprecationWarning: \n",
      "examples.directory is deprecated; in the future, examples will be found relative to the 'datapath' directory.\n",
      "  \"found relative to the 'datapath' directory.\".format(key))\n",
      "/local/home/Asif/anaconda3/lib/python3.7/site-packages/matplotlib/__init__.py:846: MatplotlibDeprecationWarning: \n",
      "The text.latex.unicode rcparam was deprecated in Matplotlib 2.2 and will be removed in 3.1.\n",
      "  \"2.2\", name=key, obj_type=\"rcparam\", addendum=addendum)\n"
     ]
    }
   ],
   "source": [
    "import matplotlib.pyplot as plt\n",
    "import seaborn as sns\n",
    "sns.reset_orig()\n",
    "\n",
    "import matplotlib as mpl\n",
    "mpl.rcParams['figure.dpi']= 72\n",
    "\n",
    "# green, red, blue, yellow, purple, blue, grey\n",
    "flatui = [\"#2DEC2A\",\"#F6204F\",\"#33CCFF\",\"#FFCC33\",\"#9b59b6\",\"#25BCFE\",\"#95a5a6\"]\n",
    "default_colors = [\"#1E88E5\", \"#ff0d57\", \"#13B755\", \"#7C52FF\", \"#FFC000\", \"#00AEEF\",\"#F9AE23\"]\n",
    "\n",
    "def fontsize(ax, fz = 14):\n",
    "    \"\"\"Set all fontsizes to fz\"\"\"\n",
    "    for item in ([ax.title, ax.xaxis.label, ax.yaxis.label] +\n",
    "                 ax.get_xticklabels() + ax.get_yticklabels()):\n",
    "        item.set_fontsize(fz)\n",
    "\n",
    "def labels(ax, title=None, subtitle=None, xlabel=None, ylabel=None, xticklabels = None, legend_title = None, legend_labels=None, legend_loc = 'upper right', fz=14, grid=True):\n",
    "    \"\"\"Assign titles and labels.\n",
    "    xticklabels and legend_labels should be lists, all others are strings.\"\"\"\n",
    "    if title is not None:\n",
    "        if subtitle is None:\n",
    "            plt.title(title)\n",
    "        else:\n",
    "            plt.suptitle(title, y=1, fontsize=fz+2)\n",
    "            plt.title(subtitle)\n",
    "    if xticklabels is not None:\n",
    "        ax.set_xticklabels(xticklabels)\n",
    "    if legend_title is not None and legend_labels is not None:\n",
    "        handles, ax_legend_labs = ax.get_legend_handles_labels()\n",
    "        ax.legend(handles, legend_labels, title=legend_title, loc=legend_loc)\n",
    "    if xlabel is not None:\n",
    "        plt.xlabel(xlabel);\n",
    "    if ylabel is not None:\n",
    "        plt.ylabel(ylabel);\n",
    "    if grid:\n",
    "        plt.grid(linestyle='dotted')\n",
    "    fontsize(ax, fz)\n",
    "\n",
    "def annotate(ax, x, y, text, offset=5):\n",
    "    \"\"\"Place text in different locations of the plot.\n",
    "    x and y are lists of locations on the plot. text can be a list of numbers or strings.\"\"\"\n",
    "    for i in range(len(x)):\n",
    "        ax.text(x[i], y[i]+offset, text[i], bbox={'facecolor':'white','pad':5}, horizontalalignment='center')"
   ]
  },
  {
   "cell_type": "code",
   "execution_count": 3,
   "metadata": {},
   "outputs": [],
   "source": [
    "from scipy import stats\n",
    "EPS = 1e-12\n",
    "def robust_transform(x, rescale=True):\n",
    "    h = 1/(1 + np.exp( - (x-np.nanmedian(x)) / (1.35 * stats.iqr(x[np.isfinite(x)]) + EPS) ))\n",
    "    if rescale:\n",
    "        h = (h - np.nanmin(h)) / (np.nanmax(h) - np.nanmin(h))\n",
    "    return h"
   ]
  },
  {
   "cell_type": "markdown",
   "metadata": {},
   "source": [
    "# Load data"
   ]
  },
  {
   "cell_type": "code",
   "execution_count": 4,
   "metadata": {},
   "outputs": [
    {
     "name": "stdout",
     "output_type": "stream",
     "text": [
      "71972\n"
     ]
    }
   ],
   "source": [
    "PATH = '/local/home/Asif/data/ards/'\n",
    "files = [f for f in os.listdir(PATH) if f.endswith('.csv')]\n",
    "print(len(files))"
   ]
  },
  {
   "cell_type": "code",
   "execution_count": 5,
   "metadata": {},
   "outputs": [],
   "source": [
    "parameters = ['FiO2', 'PaO2', 'PaCO2', 'pH', 'HR', 'RespRate', 'SpO2', 'NISysABP', 'NIDiaABP', 'NIMeanABP', 'Glucose', 'Temp', 'PEEP', 'BUN', 'Calcium', 'Creatinine', 'Bicarbonate', 'Hematocrit', 'Hemoglobin', 'Platelets', 'Potassium', 'Sodium', 'WBC', 'Albumin', 'Bilirubin', 'ALT', 'AST', 'ALP', 'Lactate', 'INR', 'TotalCO2', 'ISysABP', 'IDiaABP', 'IMeanABP', 'PTT', 'Bands', 'TVInsp', 'SaO2', 'PAPMean', 'PAPDia', 'PAPSys', 'PPlat', 'MAWP']\n",
    "\n",
    "def load_file(f):\n",
    "    df = pd.read_csv(PATH + f)\n",
    "    pid = df.loc[df.Parameter == 'patientUnitStayID'].iloc[0].Value\n",
    "    label_28day_mortality = float(df[df.Parameter == 'label_28day_mortality'].iloc[0].Value)\n",
    "    timeOfID = float(df.loc[df.Parameter == 'timeOfID','Value'].iloc[0])\n",
    "    df = df.loc[(df.Time>=timeOfID) & (df.Time<=(timeOfID+24*60)) & (df.Parameter.isin(parameters))].sort_values('Time').reset_index(drop=True).copy()\n",
    "    df.loc[:,'Value'] = df.loc[:,'Value'].astype(float)\n",
    "    df.loc[:,'Time'] = df.loc[:,'Time'] - timeOfID # time in minutes from ID\n",
    "    df = df.assign(TimeStamp=[pd.Timestamp('2018-01-01') + pd.Timedelta(f'{t}m') for t in df.Time])\n",
    "    return df, (pid, label_28day_mortality, timeOfID)"
   ]
  },
  {
   "cell_type": "code",
   "execution_count": 6,
   "metadata": {},
   "outputs": [],
   "source": [
    "from sklearn.gaussian_process import GaussianProcessRegressor\n",
    "from sklearn.gaussian_process.kernels import RBF, ConstantKernel as C, WhiteKernel\n",
    "\n",
    "def gp(t, x, m):\n",
    "    kernel = C(1.0, (1e-3, 1e3)) * RBF(10, (1e-1, 1e1)) + WhiteKernel(noise_level=0.1)\n",
    "    gp = GaussianProcessRegressor(kernel=kernel, n_restarts_optimizer=9)\n",
    "    gp.fit(t[m, np.newaxis], x[m, np.newaxis])\n",
    "    y = gp.predict(t[:, np.newaxis], return_std=False)\n",
    "    return y"
   ]
  },
  {
   "cell_type": "code",
   "execution_count": 7,
   "metadata": {},
   "outputs": [],
   "source": [
    "from sklearn.kernel_ridge import KernelRidge\n",
    "from sklearn.svm import SVR\n",
    "def svr(t,x,m):\n",
    "    clf = SVR(kernel='rbf', C=1e3, gamma=0.1)\n",
    "    clf.fit(t[m, np.newaxis], x[m])\n",
    "    y = clf.predict(t[:, np.newaxis])\n",
    "    return y"
   ]
  },
  {
   "cell_type": "code",
   "execution_count": 8,
   "metadata": {},
   "outputs": [],
   "source": [
    "# clf = SVR(kernel='rbf', C=1e3, gamma=0.1)\n",
    "# clf.fit(t[m, np.newaxis], xz[m])"
   ]
  },
  {
   "cell_type": "code",
   "execution_count": 9,
   "metadata": {},
   "outputs": [
    {
     "data": {
      "image/png": "[encoded data removed]",
      "text/plain": [
       "<Figure size 864x288 with 1 Axes>"
      ]
     },
     "metadata": {
      "needs_background": "light"
     },
     "output_type": "display_data"
    }
   ],
   "source": [
    "min_num_samples = 2\n",
    "timesteps = 48\n",
    "\n",
    "i = 17\n",
    "\n",
    "df, meta = load_file(files[i])\n",
    "dx = df[df.Parameter == 'HR']\n",
    "if len(dx) > min_num_samples:\n",
    "    x = dx.set_index('TimeStamp').resample('30min').mean()\n",
    "    x = x.reindex(pd.date_range(start=pd.Timestamp('2018-01-01'), end=pd.Timestamp('2018-01-02'), freq='30min')).Value.round(2).values[0:timesteps]\n",
    "    xz = (x - np.nanmean(x)) / np.nanstd(x) # zscore\n",
    "    t = np.linspace(0,1,timesteps)\n",
    "    m = np.isfinite(xz)\n",
    "    y = gp(t,xz,m)\n",
    "    # y = robust_transform(y)\n",
    "\n",
    "plt.figure(figsize=(12,4))\n",
    "ax = plt.subplot(1,1,1)\n",
    "plt.plot(t,xz,'o',color='lightgreen',ms=14, label='measured')\n",
    "plt.plot(t,y.ravel(),'o-',color='red')\n",
    "labels(ax, title=f'sample: {i}')"
   ]
  },
  {
   "cell_type": "code",
   "execution_count": 14,
   "metadata": {},
   "outputs": [],
   "source": [
    "def loaddata(f):\n",
    "    df, meta = load_file(f)\n",
    "    dx = df[df.Parameter == 'HR']\n",
    "    if len(dx) > min_num_samples:\n",
    "        x = dx.set_index('TimeStamp').resample('30min').mean()\n",
    "        x = x.reindex(pd.date_range(start=pd.Timestamp('2018-01-01'), \n",
    "                                    end=pd.Timestamp('2018-01-02'), \n",
    "                                    freq='30min')).Value.round(2).values[0:timesteps]\n",
    "        return x, meta[0]\n",
    "    else:\n",
    "        return None"
   ]
  },
  {
   "cell_type": "code",
   "execution_count": 15,
   "metadata": {},
   "outputs": [],
   "source": [
    "def gpinterp(f):\n",
    "    df, meta = load_file(f)\n",
    "    dx = df[df.Parameter == 'HR']\n",
    "    if len(dx) > min_num_samples:\n",
    "        x = dx.set_index('TimeStamp').resample('30min').mean()\n",
    "        x = x.reindex(pd.date_range(start=pd.Timestamp('2018-01-01'), \n",
    "                                    end=pd.Timestamp('2018-01-02'), \n",
    "                                    freq='30min')).Value.round(2).values[0:timesteps]\n",
    "        xz = (x - np.nanmean(x)) / np.nanstd(x) # zscore\n",
    "        t = np.linspace(0,1,timesteps)\n",
    "        m = np.isfinite(xz)\n",
    "        y = gp(t,xz,m)\n",
    "        y = robust_transform(y)\n",
    "        return y, meta[0]\n",
    "    else:\n",
    "        return None"
   ]
  },
  {
   "cell_type": "code",
   "execution_count": 16,
   "metadata": {},
   "outputs": [],
   "source": [
    "# xs = {}\n",
    "# n = len(files)\n",
    "# for k,f in enumerate(files):\n",
    "#     if k % 1000 == 0:\n",
    "#         print(f'{k} of {n}')\n",
    "#     out = gpinterp(f)\n",
    "#     if out is not None:\n",
    "#         xs[out[1]] = out[0]"
   ]
  },
  {
   "cell_type": "code",
   "execution_count": 17,
   "metadata": {},
   "outputs": [],
   "source": [
    "# pids = list(xs.keys())\n",
    "# plt.plot(t,xs[pids[0]])\n",
    "# plt.plot(t,xs[pids[1]])\n",
    "# plt.plot(t,xs[pids[2]])"
   ]
  },
  {
   "cell_type": "code",
   "execution_count": 18,
   "metadata": {},
   "outputs": [
    {
     "name": "stderr",
     "output_type": "stream",
     "text": [
      "100%|██████████| 71972/71972 [04:37<00:00, 259.61it/s]\n"
     ]
    }
   ],
   "source": [
    "import multiprocessing\n",
    "from tqdm import tqdm\n",
    "\n",
    "data = {}\n",
    "\n",
    "pool = multiprocessing.Pool(processes=12)\n",
    "with tqdm(total=len(files)) as progress_bar:\n",
    "    for out in pool.imap_unordered(loaddata, files):\n",
    "        if out is not None:\n",
    "            data[out[1]] = out[0]\n",
    "        progress_bar.update(1)"
   ]
  },
  {
   "cell_type": "code",
   "execution_count": 19,
   "metadata": {},
   "outputs": [],
   "source": [
    "pool.close()"
   ]
  },
  {
   "cell_type": "code",
   "execution_count": 20,
   "metadata": {},
   "outputs": [
    {
     "name": "stdout",
     "output_type": "stream",
     "text": [
      "              total        used        free      shared  buff/cache   available\r\n",
      "Mem:           251G        1.8G        241G         28M        8.6G        248G\r\n",
      "Swap:           31G          0B         31G\r\n"
     ]
    }
   ],
   "source": [
    "!free -hm"
   ]
  },
  {
   "cell_type": "code",
   "execution_count": 22,
   "metadata": {},
   "outputs": [],
   "source": [
    "pids = list(data.keys())"
   ]
  },
  {
   "cell_type": "code",
   "execution_count": 23,
   "metadata": {},
   "outputs": [],
   "source": [
    "X = np.array(list(data.values()))"
   ]
  },
  {
   "cell_type": "code",
   "execution_count": 24,
   "metadata": {},
   "outputs": [
    {
     "data": {
      "text/plain": [
       "(70715, 48)"
      ]
     },
     "execution_count": 24,
     "metadata": {},
     "output_type": "execute_result"
    }
   ],
   "source": [
    "X.shape"
   ]
  },
  {
   "cell_type": "code",
   "execution_count": 40,
   "metadata": {},
   "outputs": [],
   "source": [
    "# np.save('/local/home/Asif/data/tmp/ards_hr.npy',X.astype('f'))"
   ]
  },
  {
   "cell_type": "code",
   "execution_count": null,
   "metadata": {},
   "outputs": [],
   "source": []
  }
 ],
 "metadata": {
  "kernelspec": {
   "display_name": "Python 3",
   "language": "python",
   "name": "python3"
  },
  "language_info": {
   "codemirror_mode": {
    "name": "ipython",
    "version": 3
   },
   "file_extension": ".py",
   "mimetype": "text/x-python",
   "name": "python",
   "nbconvert_exporter": "python",
   "pygments_lexer": "ipython3",
   "version": "3.7.1"
  },
  "toc": {
   "nav_menu": {},
   "number_sections": true,
   "sideBar": true,
   "skip_h1_title": false,
   "title_cell": "Table of Contents",
   "title_sidebar": "Contents",
   "toc_cell": false,
   "toc_position": {},
   "toc_section_display": true,
   "toc_window_display": false
  }
 },
 "nbformat": 4,
 "nbformat_minor": 2
}
