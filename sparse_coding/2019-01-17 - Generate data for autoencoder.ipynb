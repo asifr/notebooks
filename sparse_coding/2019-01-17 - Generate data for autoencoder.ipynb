{
 "cells": [
  {
   "cell_type": "markdown",
   "metadata": {},
   "source": [
    "# Generate data for sparse coding with autoencoder\n",
    "\n",
    "We select a few continuous measures, like heart rate, sBP, dBP, SpO2, and RR\n",
    "\n",
    "Created: 2019-01-17"
   ]
  },
  {
   "cell_type": "markdown",
   "metadata": {
    "heading_collapsed": true
   },
   "source": [
    "# Methods"
   ]
  },
  {
   "cell_type": "code",
   "execution_count": 3,
   "metadata": {
    "hidden": true
   },
   "outputs": [
    {
     "name": "stderr",
     "output_type": "stream",
     "text": [
      "/local/home/Asif/anaconda3/lib/python3.7/site-packages/matplotlib/__init__.py:855: MatplotlibDeprecationWarning: \n",
      "examples.directory is deprecated; in the future, examples will be found relative to the 'datapath' directory.\n",
      "  \"found relative to the 'datapath' directory.\".format(key))\n",
      "/local/home/Asif/anaconda3/lib/python3.7/site-packages/matplotlib/__init__.py:846: MatplotlibDeprecationWarning: \n",
      "The text.latex.unicode rcparam was deprecated in Matplotlib 2.2 and will be removed in 3.1.\n",
      "  \"2.2\", name=key, obj_type=\"rcparam\", addendum=addendum)\n"
     ]
    }
   ],
   "source": [
    "%matplotlib inline\n",
    "import os\n",
    "import sys\n",
    "import pandas as pd\n",
    "import numpy as np\n",
    "\n",
    "import matplotlib.pyplot as plt\n",
    "import seaborn as sns\n",
    "sns.reset_orig()"
   ]
  },
  {
   "cell_type": "code",
   "execution_count": 191,
   "metadata": {
    "hidden": true
   },
   "outputs": [],
   "source": [
    "def pad_sequences(sequences, maxlen=None, dtype='int32',\n",
    "                  padding='pre', truncating='pre', value=0.):\n",
    "    \"\"\"Pads sequences to the same length.\n",
    "\n",
    "    This function transforms a list of\n",
    "    `num_samples` sequences (lists of integers)\n",
    "    into a 2D Numpy array of shape `(num_samples, num_timesteps)`.\n",
    "    `num_timesteps` is either the `maxlen` argument if provided,\n",
    "    or the length of the longest sequence otherwise.\n",
    "\n",
    "    Sequences that are shorter than `num_timesteps`\n",
    "    are padded with `value` at the end.\n",
    "\n",
    "    Sequences longer than `num_timesteps` are truncated\n",
    "    so that they fit the desired length.\n",
    "    The position where padding or truncation happens is determined by\n",
    "    the arguments `padding` and `truncating`, respectively.\n",
    "\n",
    "    Pre-padding is the default.\n",
    "\n",
    "    # Arguments\n",
    "        sequences: List of lists, where each element is a sequence.\n",
    "        maxlen: Int, maximum length of all sequences.\n",
    "        dtype: Type of the output sequences.\n",
    "        padding: String, 'pre' or 'post':\n",
    "            pad either before or after each sequence.\n",
    "        truncating: String, 'pre' or 'post':\n",
    "            remove values from sequences larger than\n",
    "            `maxlen`, either at the beginning or at the end of the sequences.\n",
    "        value: Float, padding value.\n",
    "\n",
    "    # Returns\n",
    "        x: Numpy array with shape `(len(sequences), maxlen)`\n",
    "\n",
    "    # Raises\n",
    "        ValueError: In case of invalid values for `truncating` or `padding`,\n",
    "            or in case of invalid shape for a `sequences` entry.\n",
    "    \"\"\"\n",
    "    if not hasattr(sequences, '__len__'):\n",
    "        raise ValueError('`sequences` must be iterable.')\n",
    "    lengths = []\n",
    "    for x in sequences:\n",
    "        if not hasattr(x, '__len__'):\n",
    "            raise ValueError('`sequences` must be a list of iterables. '\n",
    "                             'Found non-iterable: ' + str(x))\n",
    "        lengths.append(len(x))\n",
    "\n",
    "    num_samples = len(sequences)\n",
    "    if maxlen is None:\n",
    "        maxlen = np.max(lengths)\n",
    "\n",
    "    # take the sample shape from the first non empty sequence\n",
    "    # checking for consistency in the main loop below.\n",
    "    sample_shape = tuple()\n",
    "    for s in sequences:\n",
    "        if len(s) > 0:\n",
    "            sample_shape = np.asarray(s).shape[1:]\n",
    "            break\n",
    "\n",
    "    x = (np.ones((num_samples, maxlen) + sample_shape) * value).astype(dtype)\n",
    "    for idx, s in enumerate(sequences):\n",
    "        if not len(s):\n",
    "            continue  # empty list/array was found\n",
    "        if truncating == 'pre':\n",
    "            trunc = s[-maxlen:]\n",
    "        elif truncating == 'post':\n",
    "            trunc = s[:maxlen]\n",
    "        else:\n",
    "            raise ValueError('Truncating type \"%s\" '\n",
    "                             'not understood' % truncating)\n",
    "\n",
    "        # check `trunc` has expected shape\n",
    "        trunc = np.asarray(trunc, dtype=dtype)\n",
    "        if trunc.shape[1:] != sample_shape:\n",
    "            raise ValueError('Shape of sample %s of sequence at position %s '\n",
    "                             'is different from expected shape %s' %\n",
    "                             (trunc.shape[1:], idx, sample_shape))\n",
    "\n",
    "        if padding == 'post':\n",
    "            x[idx, :len(trunc)] = trunc\n",
    "        elif padding == 'pre':\n",
    "            x[idx, -len(trunc):] = trunc\n",
    "        else:\n",
    "            raise ValueError('Padding type \"%s\" not understood' % padding)\n",
    "    return x\n"
   ]
  },
  {
   "cell_type": "code",
   "execution_count": 4,
   "metadata": {
    "hidden": true
   },
   "outputs": [],
   "source": [
    "def _total_minutes(td):\n",
    "    return td.total_seconds() / 60\n",
    "def total_minutes(td):\n",
    "    return td.apply(_total_minutes)\n",
    "def _total_hours(td):\n",
    "    return td.total_seconds() / 60 / 60\n",
    "def total_hours(td):\n",
    "    return td.apply(_total_hours)\n",
    "def _total_days(td):\n",
    "    return td.total_seconds() / 60 / 60 / 24\n",
    "def total_days(td):\n",
    "    return td.apply(_total_days)\n",
    "\n",
    "def from_julian_time(z):\n",
    "    return pd.to_datetime(z - pd.Timestamp(0).to_julian_date(), unit='D')"
   ]
  },
  {
   "cell_type": "code",
   "execution_count": 5,
   "metadata": {
    "hidden": true
   },
   "outputs": [
    {
     "name": "stderr",
     "output_type": "stream",
     "text": [
      "/local/home/Asif/anaconda3/lib/python3.7/site-packages/matplotlib/__init__.py:855: MatplotlibDeprecationWarning: \n",
      "examples.directory is deprecated; in the future, examples will be found relative to the 'datapath' directory.\n",
      "  \"found relative to the 'datapath' directory.\".format(key))\n",
      "/local/home/Asif/anaconda3/lib/python3.7/site-packages/matplotlib/__init__.py:846: MatplotlibDeprecationWarning: \n",
      "The text.latex.unicode rcparam was deprecated in Matplotlib 2.2 and will be removed in 3.1.\n",
      "  \"2.2\", name=key, obj_type=\"rcparam\", addendum=addendum)\n"
     ]
    }
   ],
   "source": [
    "import matplotlib.pyplot as plt\n",
    "import seaborn as sns\n",
    "sns.reset_orig()\n",
    "\n",
    "import matplotlib as mpl\n",
    "mpl.rcParams['figure.dpi']= 72\n",
    "\n",
    "# green, red, blue, yellow, purple, blue, grey\n",
    "flatui = [\"#2DEC2A\",\"#F6204F\",\"#33CCFF\",\"#FFCC33\",\"#9b59b6\",\"#25BCFE\",\"#95a5a6\"]\n",
    "default_colors = [\"#1E88E5\", \"#ff0d57\", \"#13B755\", \"#7C52FF\", \"#FFC000\", \"#00AEEF\",\"#F9AE23\"]\n",
    "\n",
    "def fontsize(ax, fz = 14):\n",
    "    \"\"\"Set all fontsizes to fz\"\"\"\n",
    "    for item in ([ax.title, ax.xaxis.label, ax.yaxis.label] +\n",
    "                 ax.get_xticklabels() + ax.get_yticklabels()):\n",
    "        item.set_fontsize(fz)\n",
    "\n",
    "def labels(ax, title=None, subtitle=None, xlabel=None, ylabel=None, xticklabels = None, legend_title = None, legend_labels=None, legend_loc = 'upper right', fz=14, grid=True):\n",
    "    \"\"\"Assign titles and labels.\n",
    "    xticklabels and legend_labels should be lists, all others are strings.\"\"\"\n",
    "    if title is not None:\n",
    "        if subtitle is None:\n",
    "            plt.title(title)\n",
    "        else:\n",
    "            plt.suptitle(title, y=1, fontsize=fz+2)\n",
    "            plt.title(subtitle)\n",
    "    if xticklabels is not None:\n",
    "        ax.set_xticklabels(xticklabels)\n",
    "    if legend_title is not None and legend_labels is not None:\n",
    "        handles, ax_legend_labs = ax.get_legend_handles_labels()\n",
    "        ax.legend(handles, legend_labels, title=legend_title, loc=legend_loc)\n",
    "    if xlabel is not None:\n",
    "        plt.xlabel(xlabel);\n",
    "    if ylabel is not None:\n",
    "        plt.ylabel(ylabel);\n",
    "    if grid:\n",
    "        plt.grid(linestyle='dotted')\n",
    "    fontsize(ax, fz)\n",
    "\n",
    "def annotate(ax, x, y, text, offset=5):\n",
    "    \"\"\"Place text in different locations of the plot.\n",
    "    x and y are lists of locations on the plot. text can be a list of numbers or strings.\"\"\"\n",
    "    for i in range(len(x)):\n",
    "        ax.text(x[i], y[i]+offset, text[i], bbox={'facecolor':'white','pad':5}, horizontalalignment='center')"
   ]
  },
  {
   "cell_type": "code",
   "execution_count": 6,
   "metadata": {
    "hidden": true
   },
   "outputs": [],
   "source": [
    "from scipy import stats\n",
    "EPS = 1e-12\n",
    "def robust_transform(x, rescale=True):\n",
    "    h = 1/(1 + np.exp( - (x-np.nanmedian(x)) / (1.35 * stats.iqr(x[np.isfinite(x)]) + EPS) ))\n",
    "    if rescale:\n",
    "        h = (h - np.nanmin(h)) / (np.nanmax(h) - np.nanmin(h))\n",
    "    return h"
   ]
  },
  {
   "cell_type": "code",
   "execution_count": 11,
   "metadata": {
    "hidden": true
   },
   "outputs": [],
   "source": [
    "def squared_exponential(distance, alpha=1):\n",
    "    return np.exp((distance*alpha)**2 / -2)"
   ]
  },
  {
   "cell_type": "markdown",
   "metadata": {},
   "source": [
    "# Load data"
   ]
  },
  {
   "cell_type": "code",
   "execution_count": 7,
   "metadata": {},
   "outputs": [
    {
     "name": "stdout",
     "output_type": "stream",
     "text": [
      "71972\n"
     ]
    }
   ],
   "source": [
    "PATH = '/local/home/Asif/data/ards/'\n",
    "files = [f for f in os.listdir(PATH) if f.endswith('.csv')]\n",
    "print(len(files))"
   ]
  },
  {
   "cell_type": "code",
   "execution_count": 8,
   "metadata": {},
   "outputs": [],
   "source": [
    "parameters = ['FiO2', 'PaO2', 'PaCO2', 'pH', 'HR', 'RespRate', 'SpO2', 'NISysABP', 'NIDiaABP', 'NIMeanABP', 'Glucose', 'Temp', 'PEEP', 'BUN', 'Calcium', 'Creatinine', 'Bicarbonate', 'Hematocrit', 'Hemoglobin', 'Platelets', 'Potassium', 'Sodium', 'WBC', 'Albumin', 'Bilirubin', 'ALT', 'AST', 'ALP', 'Lactate', 'INR', 'TotalCO2', 'ISysABP', 'IDiaABP', 'IMeanABP', 'PTT', 'Bands', 'TVInsp', 'SaO2', 'PAPMean', 'PAPDia', 'PAPSys', 'PPlat', 'MAWP']\n",
    "\n",
    "def load_file(f):\n",
    "    df = pd.read_csv(PATH + f)\n",
    "    pid = df.loc[df.Parameter == 'patientUnitStayID'].iloc[0].Value\n",
    "    label_28day_mortality = float(df[df.Parameter == 'label_28day_mortality'].iloc[0].Value)\n",
    "    timeOfID = float(df.loc[df.Parameter == 'timeOfID','Value'].iloc[0])\n",
    "    df = df.loc[(df.Time>=timeOfID) & (df.Time<=(timeOfID+24*60)) & (df.Parameter.isin(parameters))].sort_values('Time').reset_index(drop=True).copy()\n",
    "    df.loc[:,'Value'] = df.loc[:,'Value'].astype(float)\n",
    "    df.loc[:,'Time'] = df.loc[:,'Time'] - timeOfID # time in minutes from ID\n",
    "    df = df.assign(TimeStamp=[pd.Timestamp('2018-01-01') + pd.Timedelta(f'{t}m') for t in df.Time])\n",
    "    return df, (pid, label_28day_mortality, timeOfID)"
   ]
  },
  {
   "cell_type": "code",
   "execution_count": 233,
   "metadata": {},
   "outputs": [
    {
     "name": "stdout",
     "output_type": "stream",
     "text": [
      "Not enough samples\n",
      "[0.34 1.15 2.35]\n"
     ]
    },
    {
     "data": {
      "image/png": "[encoded data removed]",
      "text/plain": [
       "<Figure size 864x288 with 1 Axes>"
      ]
     },
     "metadata": {
      "needs_background": "light"
     },
     "output_type": "display_data"
    }
   ],
   "source": [
    "from sklearn.metrics.pairwise import rbf_kernel, laplacian_kernel,additive_chi2_kernel\n",
    "from sklearn.metrics import pairwise_distances\n",
    "\n",
    "min_num_samples = 3\n",
    "timesteps = 48\n",
    "\n",
    "i = 4\n",
    "\n",
    "df, meta = load_file(files[i])\n",
    "dx = df[df.Parameter == 'ISysABP']\n",
    "if len(dx) >= min_num_samples:\n",
    "    x = dx.set_index('TimeStamp')\n",
    "    x = x.Value.round(2)\n",
    "    xz = ((x - np.nanmean(x)) / np.nanstd(x)) if np.sum(np.diff(x.values)) != 0 else x * 0 # zscore\n",
    "    t = total_minutes(pd.Series(xz.index - xz.index[0])).values\n",
    "    t = t[:,np.newaxis]/1440\n",
    "    x = xz.values[:,np.newaxis]\n",
    "else:\n",
    "    print('Not enough samples')\n",
    "\n",
    "# kernel smoothing\n",
    "alpha = 30\n",
    "r = np.atleast_2d(np.linspace(0,1,100)).T\n",
    "\n",
    "w = np.sqrt(np.square(r - t.T))\n",
    "wi = w.sum(1)\n",
    "alpha = [np.quantile(wi, 0.1), np.quantile(wi, 0.5), np.quantile(wi, 0.9)]\n",
    "print(np.round(alpha,2))\n",
    "alpha = alpha[2]\n",
    "\n",
    "# Krt = squared_exponential(w, alpha)\n",
    "Krt = rbf_kernel(r,t,100)\n",
    "xh = np.sum(Krt * x.T,1) / Krt.sum(1)\n",
    "\n",
    "plt.figure(figsize=(12,4))\n",
    "ax = plt.subplot(1,1,1)\n",
    "plt.plot(t, x,'o',color='lightgreen',ms=14, label='measured')\n",
    "plt.plot(r, xh,'-',color='red',lw=3)\n",
    "labels(ax, title=f'sample: {i}')\n",
    "plt.tight_layout()"
   ]
  },
  {
   "cell_type": "code",
   "execution_count": 173,
   "metadata": {},
   "outputs": [
    {
     "data": {
      "image/png": "[encoded data removed]",
      "text/plain": [
       "<Figure size 864x288 with 1 Axes>"
      ]
     },
     "metadata": {
      "needs_background": "light"
     },
     "output_type": "display_data"
    }
   ],
   "source": [
    "plt.figure(figsize=(12,4))\n",
    "ax = plt.subplot(1,1,1)\n",
    "wi = Krt.sum(1)\n",
    "wi = wi / wi.max()\n",
    "plt.stem(wi)\n",
    "labels(ax)\n",
    "plt.tight_layout()"
   ]
  },
  {
   "cell_type": "code",
   "execution_count": 260,
   "metadata": {},
   "outputs": [],
   "source": [
    "def gendata(f):\n",
    "    df, meta = load_file(f)\n",
    "    X = []\n",
    "    T = []\n",
    "    feats = []\n",
    "    for f in ['HR','SpO2','NISysABP','RespRate','SaO2']:\n",
    "        dx = df[df.Parameter == f]\n",
    "        if len(dx) > min_num_samples:\n",
    "            x = dx.set_index('TimeStamp')\n",
    "            x = x.Value.round(2)\n",
    "            t = total_minutes(pd.Series(x.index - x.index[0])).values\n",
    "            t = t[:,np.newaxis]/1440\n",
    "            if np.isnan(x).sum() == len(x):\n",
    "                continue\n",
    "            X.append(x.values[:,np.newaxis])\n",
    "            T.append(t)\n",
    "            feats.append(f)\n",
    "    if len(X) > 0:\n",
    "        return {'values':X, 'times':T, 'features':feats, 'pid': meta[0]}\n",
    "    else:\n",
    "        return None"
   ]
  },
  {
   "cell_type": "code",
   "execution_count": 261,
   "metadata": {},
   "outputs": [],
   "source": [
    "out = gendata(files[4])"
   ]
  },
  {
   "cell_type": "code",
   "execution_count": 291,
   "metadata": {},
   "outputs": [
    {
     "name": "stderr",
     "output_type": "stream",
     "text": [
      "100%|██████████| 71972/71972 [06:25<00:00, 186.57it/s]\n"
     ]
    }
   ],
   "source": [
    "import multiprocessing\n",
    "from tqdm import tqdm\n",
    "\n",
    "data = {'values':[],'times':[],'features':[],'pid':[]}\n",
    "\n",
    "pool = multiprocessing.Pool(processes=12)\n",
    "with tqdm(total=len(files)) as progress_bar:\n",
    "    for out in pool.imap_unordered(gendata, files):\n",
    "        if out is not None:\n",
    "            data['values'].extend(out['values'])\n",
    "            data['times'].extend(out['times'])\n",
    "            data['features'].extend(out['features'])\n",
    "            data['pid'].extend([out['pid']] * len(out['features']))\n",
    "        progress_bar.update(1)"
   ]
  },
  {
   "cell_type": "code",
   "execution_count": 292,
   "metadata": {},
   "outputs": [],
   "source": [
    "pool.close()"
   ]
  },
  {
   "cell_type": "code",
   "execution_count": 293,
   "metadata": {},
   "outputs": [
    {
     "name": "stdout",
     "output_type": "stream",
     "text": [
      "              total        used        free      shared  buff/cache   available\r\n",
      "Mem:           251G        8.8G        231G        124M         11G        241G\r\n",
      "Swap:           31G          0B         31G\r\n"
     ]
    }
   ],
   "source": [
    "!free -hm"
   ]
  },
  {
   "cell_type": "code",
   "execution_count": 294,
   "metadata": {},
   "outputs": [
    {
     "data": {
      "text/plain": [
       "313368"
      ]
     },
     "execution_count": 294,
     "metadata": {},
     "output_type": "execute_result"
    }
   ],
   "source": [
    "len(data['values'])"
   ]
  },
  {
   "cell_type": "code",
   "execution_count": 296,
   "metadata": {},
   "outputs": [],
   "source": [
    "import deepdish as dd\n",
    "dd.io.save('/local/home/Asif/data/tmp/ards_irregular.h5', data)"
   ]
  },
  {
   "cell_type": "code",
   "execution_count": 297,
   "metadata": {},
   "outputs": [
    {
     "name": "stdout",
     "output_type": "stream",
     "text": [
      "total 1.1G\r\n",
      "drwxr-xr-x 2 upb-dept  246 Jan 17 15:01 .\r\n",
      "drwxr-xr-x 4 upb-dept   29 Jan  3 15:46 ..\r\n",
      "-rw-r--r-- 1 upb-dept  27M Jan  7 11:37 ards_hr.npy\r\n",
      "-rw-r--r-- 1 upb-dept  26M Jan  4 15:18 ards_hr_gpinterp.npy\r\n",
      "-rw-r--r-- 1 upb-dept 274K Jan  7 11:37 ards_hr_patientUnitStayIDs.npy\r\n",
      "-rw-r--r-- 1 upb-dept  22M Jan  7 12:03 ards_SpO2.npy\r\n",
      "-rw-r--r-- 1 upb-dept 226K Jan  7 12:03 ards_SpO2_patientUnitStayIDs.npy\r\n",
      "-rw-r--r-- 1 upb-dept  18M Jan  7 13:12 ards_NISysABP.npy\r\n",
      "-rw-r--r-- 1 upb-dept 180K Jan  7 13:12 ards_NISysABP_patientUnitStayIDs.npy\r\n",
      "-rw-r--r-- 1 upb-dept 941M Jan 17 15:35 ards_irregular.h5\r\n"
     ]
    }
   ],
   "source": [
    "!ls -lafgh /local/home/Asif/data/tmp/"
   ]
  },
  {
   "cell_type": "code",
   "execution_count": null,
   "metadata": {},
   "outputs": [],
   "source": []
  }
 ],
 "metadata": {
  "kernelspec": {
   "display_name": "Python 3",
   "language": "python",
   "name": "python3"
  },
  "language_info": {
   "codemirror_mode": {
    "name": "ipython",
    "version": 3
   },
   "file_extension": ".py",
   "mimetype": "text/x-python",
   "name": "python",
   "nbconvert_exporter": "python",
   "pygments_lexer": "ipython3",
   "version": "3.7.1"
  },
  "toc": {
   "nav_menu": {},
   "number_sections": true,
   "sideBar": true,
   "skip_h1_title": false,
   "title_cell": "Table of Contents",
   "title_sidebar": "Contents",
   "toc_cell": false,
   "toc_position": {},
   "toc_section_display": true,
   "toc_window_display": false
  }
 },
 "nbformat": 4,
 "nbformat_minor": 2
}
