{
 "cells": [
  {
   "cell_type": "markdown",
   "metadata": {},
   "source": [
    "# Interpolation network\n",
    "\n",
    "Created: 2019-01-04\n",
    "\n",
    "Data generated from: [2019-01-03 - Preprocess data for sparse coding](http://130.140.51.184:8888/notebooks/sparse_coding/2019-01-03%20-%20Preprocess%20data%20for%20sparse%20coding.ipynb)"
   ]
  },
  {
   "cell_type": "markdown",
   "metadata": {},
   "source": [
    "# Methods"
   ]
  },
  {
   "cell_type": "code",
   "execution_count": 1,
   "metadata": {},
   "outputs": [
    {
     "name": "stderr",
     "output_type": "stream",
     "text": [
      "/local/home/Asif/anaconda3/lib/python3.7/site-packages/matplotlib/__init__.py:855: MatplotlibDeprecationWarning: \n",
      "examples.directory is deprecated; in the future, examples will be found relative to the 'datapath' directory.\n",
      "  \"found relative to the 'datapath' directory.\".format(key))\n",
      "/local/home/Asif/anaconda3/lib/python3.7/site-packages/matplotlib/__init__.py:846: MatplotlibDeprecationWarning: \n",
      "The text.latex.unicode rcparam was deprecated in Matplotlib 2.2 and will be removed in 3.1.\n",
      "  \"2.2\", name=key, obj_type=\"rcparam\", addendum=addendum)\n"
     ]
    }
   ],
   "source": [
    "import matplotlib.pyplot as plt\n",
    "import seaborn as sns\n",
    "sns.reset_orig()\n",
    "\n",
    "import matplotlib as mpl\n",
    "mpl.rcParams['figure.dpi']= 72\n",
    "\n",
    "# green, red, blue, yellow, purple, blue, grey\n",
    "flatui = [\"#2DEC2A\",\"#F6204F\",\"#33CCFF\",\"#FFCC33\",\"#9b59b6\",\"#25BCFE\",\"#95a5a6\"]\n",
    "default_colors = [\"#1E88E5\", \"#ff0d57\", \"#13B755\", \"#7C52FF\", \"#FFC000\", \"#00AEEF\",\"#F9AE23\"]\n",
    "\n",
    "def fontsize(ax, fz = 14):\n",
    "    \"\"\"Set all fontsizes to fz\"\"\"\n",
    "    for item in ([ax.title, ax.xaxis.label, ax.yaxis.label] +\n",
    "                 ax.get_xticklabels() + ax.get_yticklabels()):\n",
    "        item.set_fontsize(fz)\n",
    "\n",
    "def labels(ax, title=None, subtitle=None, xlabel=None, ylabel=None, xticklabels = None, legend_title = None, legend_labels=None, legend_loc = 'upper right', fz=14, grid=True):\n",
    "    \"\"\"Assign titles and labels.\n",
    "    xticklabels and legend_labels should be lists, all others are strings.\"\"\"\n",
    "    if title is not None:\n",
    "        if subtitle is None:\n",
    "            plt.title(title)\n",
    "        else:\n",
    "            plt.suptitle(title, y=1, fontsize=fz+2)\n",
    "            plt.title(subtitle)\n",
    "    if xticklabels is not None:\n",
    "        ax.set_xticklabels(xticklabels)\n",
    "    if legend_title is not None and legend_labels is not None:\n",
    "        handles, ax_legend_labs = ax.get_legend_handles_labels()\n",
    "        ax.legend(handles, legend_labels, title=legend_title, loc=legend_loc)\n",
    "    if xlabel is not None:\n",
    "        plt.xlabel(xlabel);\n",
    "    if ylabel is not None:\n",
    "        plt.ylabel(ylabel);\n",
    "    if grid:\n",
    "        plt.grid(linestyle='dotted')\n",
    "    fontsize(ax, fz)\n",
    "\n",
    "def annotate(ax, x, y, text, offset=5):\n",
    "    \"\"\"Place text in different locations of the plot.\n",
    "    x and y are lists of locations on the plot. text can be a list of numbers or strings.\"\"\"\n",
    "    for i in range(len(x)):\n",
    "        ax.text(x[i], y[i]+offset, text[i], bbox={'facecolor':'white','pad':5}, horizontalalignment='center')"
   ]
  },
  {
   "cell_type": "markdown",
   "metadata": {},
   "source": [
    "# Load data"
   ]
  },
  {
   "cell_type": "code",
   "execution_count": 2,
   "metadata": {},
   "outputs": [
    {
     "name": "stderr",
     "output_type": "stream",
     "text": [
      "/local/home/Asif/anaconda3/lib/python3.7/site-packages/matplotlib/__init__.py:855: MatplotlibDeprecationWarning: \n",
      "examples.directory is deprecated; in the future, examples will be found relative to the 'datapath' directory.\n",
      "  \"found relative to the 'datapath' directory.\".format(key))\n",
      "/local/home/Asif/anaconda3/lib/python3.7/site-packages/matplotlib/__init__.py:846: MatplotlibDeprecationWarning: \n",
      "The text.latex.unicode rcparam was deprecated in Matplotlib 2.2 and will be removed in 3.1.\n",
      "  \"2.2\", name=key, obj_type=\"rcparam\", addendum=addendum)\n"
     ]
    }
   ],
   "source": [
    "%matplotlib inline\n",
    "import os\n",
    "import sys\n",
    "import pandas as pd\n",
    "import numpy as np\n",
    "\n",
    "import matplotlib.pyplot as plt\n",
    "import seaborn as sns\n",
    "sns.reset_orig()"
   ]
  },
  {
   "cell_type": "code",
   "execution_count": 3,
   "metadata": {},
   "outputs": [],
   "source": [
    "X = np.load('/local/home/Asif/data/tmp/ards_hr.npy')"
   ]
  },
  {
   "cell_type": "code",
   "execution_count": 4,
   "metadata": {},
   "outputs": [],
   "source": [
    "data = np.load('/local/home/Asif/data/tmp/ards_hr_gpinterp.npy')"
   ]
  },
  {
   "cell_type": "code",
   "execution_count": 5,
   "metadata": {},
   "outputs": [
    {
     "data": {
      "text/plain": [
       "(70715, 48, 1)"
      ]
     },
     "execution_count": 5,
     "metadata": {},
     "output_type": "execute_result"
    }
   ],
   "source": [
    "data.shape"
   ]
  },
  {
   "cell_type": "markdown",
   "metadata": {},
   "source": [
    "# RBF Network"
   ]
  },
  {
   "cell_type": "code",
   "execution_count": 9,
   "metadata": {},
   "outputs": [],
   "source": [
    "import time\n",
    "import math\n",
    "import torch\n",
    "import torch.nn as nn\n",
    "from torch.autograd import Variable\n",
    "from itertools import chain\n",
    "from functools import partial\n",
    "import torch.nn.functional as F"
   ]
  },
  {
   "cell_type": "code",
   "execution_count": 10,
   "metadata": {},
   "outputs": [],
   "source": [
    "class RbfNet(nn.Module):\n",
    "    def __init__(self, centers, num_class=10):\n",
    "        super(RbfNet, self).__init__()\n",
    "        self.num_class = num_class\n",
    "        self.num_centers = centers.size(0)\n",
    "\n",
    "        self.centers = nn.Parameter(centers)\n",
    "        self.beta = nn.Parameter(torch.ones(1,self.num_centers)/10)\n",
    "        self.linear = nn.Linear(self.num_centers, self.num_class, bias=True)\n",
    "        utils.initialize_weights(self)\n",
    "\n",
    "    def kernel_fun(self, batches):\n",
    "        n_input = batches.size(0) # number of inputs\n",
    "        A = self.centers.view(self.num_centers,-1).repeat(n_input,1,1)\n",
    "        B = batches.view(n_input,-1).unsqueeze(1).repeat(1,self.num_centers,1)\n",
    "        C = torch.exp(-self.beta.mul((A-B).pow(2).sum(2,keepdim=False).sqrt() ) )\n",
    "        return C\n",
    "\n",
    "    def forward(self, batches):\n",
    "        radial_val = self.kernel_fun(batches)\n",
    "        class_score = self.linear(radial_val)\n",
    "        return class_score"
   ]
  },
  {
   "cell_type": "code",
   "execution_count": 11,
   "metadata": {},
   "outputs": [],
   "source": [
    "class Learner:\n",
    "    def __init__(self, model, optimizer, lossfun, step_size=0.01, device='cpu', cyclic=True):\n",
    "        self.model = model.to(device)\n",
    "        self.optimizer = optimizer(self.model.parameters())\n",
    "        if cyclic:\n",
    "            self.scheduler = CyclicLR(self.optimizer)\n",
    "        self.lossfun = lossfun\n",
    "        self.device = device\n",
    "        self.cyclic = cyclic\n",
    "        self.loss_history = []\n",
    "        self.learn_rates = []\n",
    "\n",
    "    def fit(self, x, epochs, batch_size):\n",
    "        self.model.train()\n",
    "        for e in range(epochs):\n",
    "            shuffle_idx = np.arange(x.shape[0])\n",
    "            np.random.shuffle(shuffle_idx)\n",
    "            x = x[shuffle_idx]\n",
    "            epoch_losses = []\n",
    "            for idx in range(0, x.shape[0], batch_size):\n",
    "                if self.cyclic:\n",
    "                    self.scheduler.batch_step()\n",
    "                self.optimizer.zero_grad()\n",
    "                batch_x = torch.from_numpy(x[idx : min(idx + batch_size, x.shape[0]), :, 0]).float().to(self.device).requires_grad_(False)\n",
    "                encoded, decoded = self.model(batch_x)\n",
    "                loss = self.lossfun(encoded, decoded, batch_x, batch_size, self.model.param)\n",
    "                loss.backward()\n",
    "                self.optimizer.step()\n",
    "                epoch_losses.append(loss.cpu().detach().numpy())\n",
    "            epoch_loss =  np.mean(epoch_losses)\n",
    "            self.loss_history.append(epoch_loss)\n",
    "            self.learn_rates.append(self.optimizer.param_groups[0]['lr'])\n",
    "            if (e+1) % 1 == 0:\n",
    "                print(\"Epoch {}: {}\".format(e+1, epoch_loss))\n",
    "\n",
    "    def predict(self, x, train=False):\n",
    "        if train:\n",
    "            self.model.train()\n",
    "        else:\n",
    "            self.model.eval()\n",
    "        return [_.cpu().detach().numpy() for _ in self.model(torch.from_numpy(x).float().to(self.device).requires_grad_(False))]"
   ]
  },
  {
   "cell_type": "code",
   "execution_count": 12,
   "metadata": {},
   "outputs": [],
   "source": [
    "def kernel(rk, tj):\n",
    "    return np.exp(-alpha * np.sqrt(np.sum(np.square(rk - tj))))"
   ]
  },
  {
   "cell_type": "code",
   "execution_count": 15,
   "metadata": {},
   "outputs": [],
   "source": [
    "# L = 48 # observerd timesteps\n",
    "# T = 48 # reference timesteps\n",
    "# r = np.arange(T)\n",
    "\n",
    "# i = 40\n",
    "\n",
    "# x = X[i,:]\n",
    "# m = np.isfinite(x)\n",
    "# t = r[m]\n",
    "# x = x[m]\n",
    "\n",
    "# alpha = 0.5\n",
    "\n",
    "# xh = np.zeros(T)\n",
    "# for k in range(T):\n",
    "#     rk = r[k]\n",
    "#     w = np.array([kernel(rk, tj) for tj in t])\n",
    "#     xh[k] = np.sum(w * x) / np.sum(w)\n",
    "\n",
    "# plt.figure(figsize=(10,4))\n",
    "# ax = plt.subplot(1,1,1)\n",
    "# plt.plot(t,x,'o', color='lightgreen', ms=12, label='measured')\n",
    "# plt.plot(r,xh,'o-', label='interpolated')\n",
    "# labels(ax, xlabel='timesteps')\n",
    "# plt.legend()\n",
    "# plt.tight_layout()"
   ]
  }
 ],
 "metadata": {
  "kernelspec": {
   "display_name": "Python 3",
   "language": "python",
   "name": "python3"
  },
  "language_info": {
   "codemirror_mode": {
    "name": "ipython",
    "version": 3
   },
   "file_extension": ".py",
   "mimetype": "text/x-python",
   "name": "python",
   "nbconvert_exporter": "python",
   "pygments_lexer": "ipython3",
   "version": "3.7.1"
  },
  "toc": {
   "nav_menu": {},
   "number_sections": true,
   "sideBar": true,
   "skip_h1_title": false,
   "title_cell": "Table of Contents",
   "title_sidebar": "Contents",
   "toc_cell": false,
   "toc_position": {},
   "toc_section_display": true,
   "toc_window_display": false
  }
 },
 "nbformat": 4,
 "nbformat_minor": 2
}
