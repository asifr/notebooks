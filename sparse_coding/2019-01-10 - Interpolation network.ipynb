{
 "cells": [
  {
   "cell_type": "code",
   "execution_count": 24,
   "metadata": {},
   "outputs": [
    {
     "name": "stderr",
     "output_type": "stream",
     "text": [
      "/local/home/Asif/anaconda3/lib/python3.7/site-packages/matplotlib/__init__.py:855: MatplotlibDeprecationWarning: \n",
      "examples.directory is deprecated; in the future, examples will be found relative to the 'datapath' directory.\n",
      "  \"found relative to the 'datapath' directory.\".format(key))\n",
      "/local/home/Asif/anaconda3/lib/python3.7/site-packages/matplotlib/__init__.py:846: MatplotlibDeprecationWarning: \n",
      "The text.latex.unicode rcparam was deprecated in Matplotlib 2.2 and will be removed in 3.1.\n",
      "  \"2.2\", name=key, obj_type=\"rcparam\", addendum=addendum)\n"
     ]
    }
   ],
   "source": [
    "%matplotlib inline\n",
    "import os\n",
    "import sys\n",
    "import pandas as pd\n",
    "import numpy as np\n",
    "\n",
    "import matplotlib.pyplot as plt\n",
    "import seaborn as sns\n",
    "sns.reset_orig()"
   ]
  },
  {
   "cell_type": "code",
   "execution_count": 25,
   "metadata": {},
   "outputs": [],
   "source": [
    "import time\n",
    "import math\n",
    "import torch\n",
    "import torch.nn as nn\n",
    "from torch.autograd import Variable\n",
    "from itertools import chain\n",
    "from functools import partial\n",
    "import torch.nn.functional as F"
   ]
  },
  {
   "cell_type": "code",
   "execution_count": 26,
   "metadata": {},
   "outputs": [],
   "source": [
    "def _total_minutes(td):\n",
    "    return td.total_seconds() / 60\n",
    "def total_minutes(td):\n",
    "    return td.apply(_total_minutes)\n",
    "def _total_hours(td):\n",
    "    return td.total_seconds() / 60 / 60\n",
    "def total_hours(td):\n",
    "    return td.apply(_total_hours)\n",
    "def _total_days(td):\n",
    "    return td.total_seconds() / 60 / 60 / 24\n",
    "def total_days(td):\n",
    "    return td.apply(_total_days)\n",
    "\n",
    "def from_julian_time(z):\n",
    "    return pd.to_datetime(z - pd.Timestamp(0).to_julian_date(), unit='D')"
   ]
  },
  {
   "cell_type": "code",
   "execution_count": 27,
   "metadata": {},
   "outputs": [
    {
     "name": "stderr",
     "output_type": "stream",
     "text": [
      "/local/home/Asif/anaconda3/lib/python3.7/site-packages/matplotlib/__init__.py:855: MatplotlibDeprecationWarning: \n",
      "examples.directory is deprecated; in the future, examples will be found relative to the 'datapath' directory.\n",
      "  \"found relative to the 'datapath' directory.\".format(key))\n",
      "/local/home/Asif/anaconda3/lib/python3.7/site-packages/matplotlib/__init__.py:846: MatplotlibDeprecationWarning: \n",
      "The text.latex.unicode rcparam was deprecated in Matplotlib 2.2 and will be removed in 3.1.\n",
      "  \"2.2\", name=key, obj_type=\"rcparam\", addendum=addendum)\n"
     ]
    }
   ],
   "source": [
    "import matplotlib.pyplot as plt\n",
    "import seaborn as sns\n",
    "sns.reset_orig()\n",
    "\n",
    "import matplotlib as mpl\n",
    "mpl.rcParams['figure.dpi']= 72\n",
    "\n",
    "# green, red, blue, yellow, purple, blue, grey\n",
    "flatui = [\"#2DEC2A\",\"#F6204F\",\"#33CCFF\",\"#FFCC33\",\"#9b59b6\",\"#25BCFE\",\"#95a5a6\"]\n",
    "default_colors = [\"#1E88E5\", \"#ff0d57\", \"#13B755\", \"#7C52FF\", \"#FFC000\", \"#00AEEF\",\"#F9AE23\"]\n",
    "\n",
    "def fontsize(ax, fz = 14):\n",
    "    \"\"\"Set all fontsizes to fz\"\"\"\n",
    "    for item in ([ax.title, ax.xaxis.label, ax.yaxis.label] +\n",
    "                 ax.get_xticklabels() + ax.get_yticklabels()):\n",
    "        item.set_fontsize(fz)\n",
    "\n",
    "def labels(ax, title=None, subtitle=None, xlabel=None, ylabel=None, xticklabels = None, legend_title = None, legend_labels=None, legend_loc = 'upper right', fz=14, grid=True):\n",
    "    \"\"\"Assign titles and labels.\n",
    "    xticklabels and legend_labels should be lists, all others are strings.\"\"\"\n",
    "    if title is not None:\n",
    "        if subtitle is None:\n",
    "            plt.title(title)\n",
    "        else:\n",
    "            plt.suptitle(title, y=1, fontsize=fz+2)\n",
    "            plt.title(subtitle)\n",
    "    if xticklabels is not None:\n",
    "        ax.set_xticklabels(xticklabels)\n",
    "    if legend_title is not None and legend_labels is not None:\n",
    "        handles, ax_legend_labs = ax.get_legend_handles_labels()\n",
    "        ax.legend(handles, legend_labels, title=legend_title, loc=legend_loc)\n",
    "    if xlabel is not None:\n",
    "        plt.xlabel(xlabel);\n",
    "    if ylabel is not None:\n",
    "        plt.ylabel(ylabel);\n",
    "    if grid:\n",
    "        plt.grid(linestyle='dotted')\n",
    "    fontsize(ax, fz)\n",
    "\n",
    "def annotate(ax, x, y, text, offset=5):\n",
    "    \"\"\"Place text in different locations of the plot.\n",
    "    x and y are lists of locations on the plot. text can be a list of numbers or strings.\"\"\"\n",
    "    for i in range(len(x)):\n",
    "        ax.text(x[i], y[i]+offset, text[i], bbox={'facecolor':'white','pad':5}, horizontalalignment='center')"
   ]
  },
  {
   "cell_type": "code",
   "execution_count": 28,
   "metadata": {},
   "outputs": [
    {
     "name": "stdout",
     "output_type": "stream",
     "text": [
      "71972\n"
     ]
    }
   ],
   "source": [
    "PATH = '/local/home/Asif/data/ards/'\n",
    "files = [f for f in os.listdir(PATH) if f.endswith('.csv')]\n",
    "print(len(files))"
   ]
  },
  {
   "cell_type": "code",
   "execution_count": 29,
   "metadata": {},
   "outputs": [],
   "source": [
    "parameters = ['FiO2', 'PaO2', 'PaCO2', 'pH', 'HR', 'RespRate', 'SpO2', 'NISysABP', 'NIDiaABP', 'NIMeanABP', 'Glucose', 'Temp', 'PEEP', 'BUN', 'Calcium', 'Creatinine', 'Bicarbonate', 'Hematocrit', 'Hemoglobin', 'Platelets', 'Potassium', 'Sodium', 'WBC', 'Albumin', 'Bilirubin', 'ALT', 'AST', 'ALP', 'Lactate', 'INR', 'TotalCO2', 'ISysABP', 'IDiaABP', 'IMeanABP', 'PTT', 'Bands', 'TVInsp', 'SaO2', 'PAPMean', 'PAPDia', 'PAPSys', 'PPlat', 'MAWP']\n",
    "\n",
    "def load_file(f):\n",
    "    df = pd.read_csv(PATH + f)\n",
    "    pid = df.loc[df.Parameter == 'patientUnitStayID'].iloc[0].Value\n",
    "    label_28day_mortality = float(df[df.Parameter == 'label_28day_mortality'].iloc[0].Value)\n",
    "    timeOfID = float(df.loc[df.Parameter == 'timeOfID','Value'].iloc[0])\n",
    "    df = df.loc[(df.Time>=timeOfID) & (df.Time<=(timeOfID+24*60)) & (df.Parameter.isin(parameters))].sort_values('Time').reset_index(drop=True).copy()\n",
    "    df.loc[:,'Value'] = df.loc[:,'Value'].astype(float)\n",
    "    df.loc[:,'Time'] = df.loc[:,'Time'] - timeOfID # time in minutes from ID\n",
    "    df = df.assign(TimeStamp=[pd.Timestamp('2018-01-01') + pd.Timedelta(f'{t}m') for t in df.Time])\n",
    "    return df, (pid, label_28day_mortality, timeOfID)"
   ]
  },
  {
   "cell_type": "code",
   "execution_count": 30,
   "metadata": {},
   "outputs": [
    {
     "data": {
      "image/png": "[encoded data removed]",
      "text/plain": [
       "<Figure size 864x288 with 1 Axes>"
      ]
     },
     "metadata": {
      "needs_background": "light"
     },
     "output_type": "display_data"
    }
   ],
   "source": [
    "i = 6\n",
    "df, meta = load_file(files[i])\n",
    "dx = df[df.Parameter == 'HR']\n",
    "x = dx.set_index('TimeStamp')\n",
    "x = x.Value.round(2)\n",
    "xz = (x - np.nanmean(x)) / np.nanstd(x) # zscore\n",
    "t = total_minutes(pd.Series(xz.index - xz.index[0])).values\n",
    "t = t/1440\n",
    "r = np.linspace(0,1,100)\n",
    "\n",
    "plt.figure(figsize=(12,4))\n",
    "ax = plt.subplot(1,1,1)\n",
    "plt.plot(t, x,'o',color='lightgreen',ms=8, label='measured')\n",
    "labels(ax, title=f'sample: {i}')\n",
    "plt.tight_layout()"
   ]
  },
  {
   "cell_type": "code",
   "execution_count": 31,
   "metadata": {},
   "outputs": [],
   "source": [
    "# class Interp(nn.Module):\n",
    "#     def __init__(self, timesteps, alpha):\n",
    "#         super(Interp, self).__init__()\n",
    "#         self.timesteps = timesteps\n",
    "#         self.alpha = nn.Parameter(torch.Tensor([alpha]))\n",
    "#         self.linear = nn.Linear(self.timesteps, 1, bias=True)\n",
    "\n",
    "#     def forward(self, tt, xt, reftimes, return_w=False):\n",
    "#         batch_size = tt.size(0)\n",
    "#         ndim = xt.ndimension()\n",
    "#         if str(rt.dtype) != 'torch.float32':\n",
    "#             reftimes = torch.FloatTensor(reftimes)\n",
    "#             rti = reftimes.repeat(batch_size,tt.size(1),1)\n",
    "#             # w shape [batch_size, observed timesteps, reference timesteps]\n",
    "#             w = torch.exp(-F.relu(self.alpha) * (rti - tt.view(batch_size,-1,1)).pow(2).sqrt())\n",
    "#             xh = (w * xt.view(batch_size,-1,1)).sum(1) / w.sum(1)\n",
    "#         return xh, w"
   ]
  },
  {
   "cell_type": "markdown",
   "metadata": {},
   "source": [
    "# Kernel smoothing"
   ]
  },
  {
   "cell_type": "code",
   "execution_count": 40,
   "metadata": {},
   "outputs": [],
   "source": [
    "X = []\n",
    "T = []\n",
    "for i in range(32):\n",
    "    df, meta = load_file(files[i])\n",
    "    dx = df[df.Parameter == 'HR']\n",
    "    if dx.empty:\n",
    "        continue\n",
    "    x = dx.set_index('TimeStamp')\n",
    "    x = x.Value.round(2)\n",
    "    xz = (x - np.nanmean(x)) / np.nanstd(x) # zscore\n",
    "    t = total_minutes(pd.Series(xz.index - xz.index[0])).values\n",
    "    t = t/1440\n",
    "    X.append(xz.values)\n",
    "    T.append(t)"
   ]
  },
  {
   "cell_type": "code",
   "execution_count": 165,
   "metadata": {},
   "outputs": [
    {
     "name": "stdout",
     "output_type": "stream",
     "text": [
      "torch.Size([1, 287]) torch.Size([1, 287]) torch.Size([100, 1])\n"
     ]
    }
   ],
   "source": [
    "i = 1\n",
    "x = torch.FloatTensor(X[i]).view(1,-1)\n",
    "t = torch.FloatTensor(T[i]).view(1, -1)\n",
    "r = torch.FloatTensor(np.linspace(0,1,100)).view(-1,1)\n",
    "print(x.shape, t.shape, r.shape)"
   ]
  },
  {
   "cell_type": "code",
   "execution_count": 167,
   "metadata": {},
   "outputs": [],
   "source": [
    "def squared_exponential(distance, alpha=1):\n",
    "    return torch.exp((distance*alpha)**2 / -2)"
   ]
  },
  {
   "cell_type": "code",
   "execution_count": 205,
   "metadata": {},
   "outputs": [],
   "source": [
    "alpha = 30\n",
    "Krt = squared_exponential(torch.pow(r - t, 2).sqrt(), alpha)\n",
    "xh = torch.sum(Krt * x, 1) / Krt.sum(1)"
   ]
  },
  {
   "cell_type": "code",
   "execution_count": 206,
   "metadata": {},
   "outputs": [
    {
     "data": {
      "text/plain": [
       "[<matplotlib.lines.Line2D at 0x7fc7284b10b8>]"
      ]
     },
     "execution_count": 206,
     "metadata": {},
     "output_type": "execute_result"
    },
    {
     "data": {
      "image/png": "[encoded data removed]",
      "text/plain": [
       "<Figure size 432x288 with 1 Axes>"
      ]
     },
     "metadata": {
      "needs_background": "light"
     },
     "output_type": "display_data"
    }
   ],
   "source": [
    "plt.plot(T[i],X[i],'o')\n",
    "plt.plot(r.numpy(),xh.numpy(),'-', lw=3)"
   ]
  },
  {
   "cell_type": "code",
   "execution_count": null,
   "metadata": {},
   "outputs": [],
   "source": []
  }
 ],
 "metadata": {
  "kernelspec": {
   "display_name": "Python 3",
   "language": "python",
   "name": "python3"
  },
  "language_info": {
   "codemirror_mode": {
    "name": "ipython",
    "version": 3
   },
   "file_extension": ".py",
   "mimetype": "text/x-python",
   "name": "python",
   "nbconvert_exporter": "python",
   "pygments_lexer": "ipython3",
   "version": "3.7.1"
  },
  "toc": {
   "nav_menu": {},
   "number_sections": true,
   "sideBar": true,
   "skip_h1_title": false,
   "title_cell": "Table of Contents",
   "title_sidebar": "Contents",
   "toc_cell": false,
   "toc_position": {},
   "toc_section_display": true,
   "toc_window_display": false
  }
 },
 "nbformat": 4,
 "nbformat_minor": 2
}
